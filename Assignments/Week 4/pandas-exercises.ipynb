{
 "cells": [
  {
   "metadata": {},
   "cell_type": "raw",
   "source": [
    "Pandas High-Level Exercises – Titanic Dataset\n",
    "These exercises require advanced manipulation using the Titanic dataset.\n",
    "\n",
    "\n",
    "import pandas as pd\n",
    "df = pd.read_csv('titanic.csv')\n",
    "1. Title Extraction and Analysis\n",
    "Task: Extract the title (e.g., Mr., Miss, Master) from the Name column and determine the survival rate for each title.\n",
    "\n",
    "Hint: Use string methods and .groupby().\n",
    "\n",
    "2. Cabin Grouping\n",
    "Task:\n",
    "Group passengers based on the first letter of their Cabin (e.g., A, B, C...) and compute:\n",
    "\n",
    "Total passengers\n",
    "\n",
    "Survival rate per cabin group\n",
    "\n",
    "Note: Handle missing cabins by labeling them as \"Unknown\".\n",
    "\n",
    "3. Family Size Impact\n",
    "Task:\n",
    "Create a new column FamilySize = SibSp + Parch + 1 and categorize family size as:\n",
    "\n",
    "'Single' (1)\n",
    "\n",
    "'Small' (2–4)\n",
    "\n",
    "'Large' (5+)\n",
    "\n",
    "Then compute survival rates for each category.\n",
    "\n",
    "4. Age Binning and Survival Analysis\n",
    "Task:\n",
    "Create age bins: [0–10], [11–20], ..., [71+] and use .cut() to assign age groups. Plot the survival rate by age group.\n",
    "\n",
    "5. Cross Tab: Class vs. Sex vs. Survival\n",
    "Task:\n",
    "Create a pivot table showing survival counts and rates grouped by both Pclass and Sex.\n",
    "\n",
    "6. Impute Missing Age Using Median per Title\n",
    "Task:\n",
    "Use the Title extracted in Exercise 1 to impute missing Age values with the median age of each title group.\n",
    "\n",
    "7. Correlation Heatmap of Encoded Features\n",
    "Task:\n",
    "Encode Sex, Embarked, and Title using .map() or pd.get_dummies(), and compute a correlation matrix to see which features most strongly correlate with Survived.\n",
    "\n",
    "8. Identify Duplicate Ticket Holders\n",
    "Task:\n",
    "Group passengers by Ticket number and identify tickets shared by multiple passengers. For these, compute the survival rate of all passengers sharing the same ticket.\n",
    "\n",
    "9. Analyze Fare per Person\n",
    "Task:\n",
    "Calculate a new column FarePerPerson = Fare / FamilySize. Analyze the correlation between FarePerPerson and Survived.\n",
    "\n",
    "10. Feature Interaction: Class and Fare\n",
    "Task:\n",
    "Create a new categorical feature that combines Pclass and fare quantiles (e.g., '1_HighFare', '2_LowFare', etc.). Analyze survival across these new categories.\n",
    "\n"
   ],
   "id": "91153ee3f49194d5"
  },
  {
   "metadata": {},
   "cell_type": "markdown",
   "source": "Exercise 1: Task: Extract the title (e.g., Mr., Miss, Master) from the Name column and determine the survival rate for each title.",
   "id": "4392199736b9e3a2"
  },
  {
   "metadata": {
    "jupyter": {
     "is_executing": true
    }
   },
   "cell_type": "code",
   "source": [
    "import pandas as pd\n",
    "df = pd.read_csv('Titanic-Dataset.csv')\n",
    "print(df)"
   ],
   "id": "fbd98cbbca8ed972",
   "outputs": [],
   "execution_count": null
  },
  {
   "metadata": {
    "ExecuteTime": {
     "end_time": "2025-07-26T11:13:16.146240Z",
     "start_time": "2025-07-26T11:13:16.136641Z"
    }
   },
   "cell_type": "code",
   "source": [
    "df['Title'] = df['Name'].str.extract(r'\\b(Mr|Mrs|Master|Miss|Ms|Dr)\\b', expand=False)\n",
    "\n",
    "Total = df.groupby('Title').size()\n",
    "Survived = df.groupby('Title')['Survived'].sum().sort_index()\n",
    "\n",
    "survived_total = pd.DataFrame({\n",
    "    'Total' : Total,\n",
    "    'Survived': Survived\n",
    "})\n",
    "\n",
    "survived_total['SurvivalRate'] = (survived_total['Survived']/survived_total['Total']) * 100\n",
    "\n",
    "for title, row in survived_total.iterrows():\n",
    "    print(title, \"had a survival rate of\", row['SurvivalRate'], \"%\")"
   ],
   "id": "bfe4bc5933a2e683",
   "outputs": [
    {
     "name": "stdout",
     "output_type": "stream",
     "text": [
      "Dr had a survival rate of 42.857142857142854 %\n",
      "Master had a survival rate of 57.49999999999999 %\n",
      "Miss had a survival rate of 69.78021978021978 %\n",
      "Mr had a survival rate of 15.83011583011583 %\n",
      "Mrs had a survival rate of 79.52755905511812 %\n",
      "Ms had a survival rate of 100.0 %\n"
     ]
    }
   ],
   "execution_count": 2
  },
  {
   "metadata": {},
   "cell_type": "markdown",
   "source": [
    "Exercise 2: Group passengers based on the first letter of their Cabin (e.g., A, B, C...) and compute:\n",
    "\n",
    "Total passengers\n",
    "\n",
    "Survival rate per cabin group\n",
    "\n",
    "Note: Handle missing cabins by labeling them as \"Unknown\"."
   ],
   "id": "91ec0cfbc5118b7e"
  },
  {
   "metadata": {
    "ExecuteTime": {
     "end_time": "2025-07-26T11:13:16.164480Z",
     "start_time": "2025-07-26T11:13:16.153686Z"
    }
   },
   "cell_type": "code",
   "source": [
    "df['Cabin'] = df['Cabin'].fillna('Unknown')\n",
    "\n",
    "temp = [cabin[:1] for cabin in df['Cabin']]\n",
    "df['Temp'] = temp\n",
    "\n",
    "df_grouped = df['Temp'].value_counts().sort_index()\n",
    "print(df_grouped)\n",
    "\n",
    "for cabin, passengers in df_grouped.items():\n",
    "    print('There were a total of', passengers, 'passengers in cabins starting with', cabin)\n",
    "\n",
    "\n",
    "Total = df.groupby('Temp').size()\n",
    "Survived = df.groupby('Temp')['Survived'].sum().sort_index()\n",
    "\n",
    "survived_total = pd.DataFrame({\n",
    "    'Total': Total,\n",
    "    'Survived': Survived\n",
    "})\n",
    "\n",
    "survived_total['SurvivalRate'] = (survived_total['Survived']/survived_total['Total']) * 100\n",
    "\n",
    "for cabin, row in survived_total.iterrows():\n",
    "    print(\"The cabins\", cabin, \"had a survival rate of\", row['SurvivalRate'], \"%\")\n"
   ],
   "id": "6cc1442910996bcc",
   "outputs": [
    {
     "name": "stdout",
     "output_type": "stream",
     "text": [
      "Temp\n",
      "A     15\n",
      "B     47\n",
      "C     59\n",
      "D     33\n",
      "E     32\n",
      "F     13\n",
      "G      4\n",
      "T      1\n",
      "U    687\n",
      "Name: count, dtype: int64\n",
      "There were a total of 15 passengers in cabins starting with A\n",
      "There were a total of 47 passengers in cabins starting with B\n",
      "There were a total of 59 passengers in cabins starting with C\n",
      "There were a total of 33 passengers in cabins starting with D\n",
      "There were a total of 32 passengers in cabins starting with E\n",
      "There were a total of 13 passengers in cabins starting with F\n",
      "There were a total of 4 passengers in cabins starting with G\n",
      "There were a total of 1 passengers in cabins starting with T\n",
      "There were a total of 687 passengers in cabins starting with U\n",
      "The cabins A had a survival rate of 46.666666666666664 %\n",
      "The cabins B had a survival rate of 74.46808510638297 %\n",
      "The cabins C had a survival rate of 59.32203389830508 %\n",
      "The cabins D had a survival rate of 75.75757575757575 %\n",
      "The cabins E had a survival rate of 75.0 %\n",
      "The cabins F had a survival rate of 61.53846153846154 %\n",
      "The cabins G had a survival rate of 50.0 %\n",
      "The cabins T had a survival rate of 0.0 %\n",
      "The cabins U had a survival rate of 29.985443959243085 %\n"
     ]
    }
   ],
   "execution_count": 3
  },
  {
   "metadata": {},
   "cell_type": "markdown",
   "source": [
    "Exercise 3: Family Size Impact\n",
    "Task:\n",
    "Create a new column FamilySize = SibSp + Parch + 1 and categorize family size as:\n",
    "\n",
    "'Single' (1)\n",
    "\n",
    "'Small' (2–4)\n",
    "\n",
    "'Large' (5+)\n",
    "\n",
    "Then compute survival rates for each category."
   ],
   "id": "5702ad9b8d8c3e5f"
  },
  {
   "metadata": {
    "ExecuteTime": {
     "end_time": "2025-07-26T11:13:16.178383Z",
     "start_time": "2025-07-26T11:13:16.171800Z"
    }
   },
   "cell_type": "code",
   "source": [
    "df['Family_size'] = df['SibSp'] + df['Parch'] + 1\n",
    "\n",
    "def categorize_family(family_size):\n",
    "    if family_size == 1:\n",
    "        return 'Single'\n",
    "    elif 2 <= family_size <= 4:\n",
    "        return 'Small'\n",
    "    else:\n",
    "        return 'Large'\n",
    "\n",
    "df['Family_Category'] = df['Family_size'].apply(categorize_family)\n",
    "\n",
    "\n",
    "Total = df.groupby('Family_Category').size()\n",
    "Survived = df.groupby('Family_Category')['Survived'].sum().sort_index()\n",
    "\n",
    "survived_total = pd.DataFrame({\n",
    "    'Total': Total,\n",
    "    'Survived': Survived\n",
    "})\n",
    "print(survived_total)\n",
    "\n",
    "survived_total['SurvivalRate'] = (survived_total['Survived']/survived_total['Total']) * 100\n",
    "\n",
    "for family_category, row in survived_total.iterrows():\n",
    "    print(\"The\", family_category, \"families had a survival rate of\", row['SurvivalRate'], \"%\")"
   ],
   "id": "4d166dedf7d5540f",
   "outputs": [
    {
     "name": "stdout",
     "output_type": "stream",
     "text": [
      "                 Total  Survived\n",
      "Family_Category                 \n",
      "Large               62        10\n",
      "Single             537       163\n",
      "Small              292       169\n",
      "The Large families had a survival rate of 16.129032258064516 %\n",
      "The Single families had a survival rate of 30.353817504655495 %\n",
      "The Small families had a survival rate of 57.87671232876712 %\n"
     ]
    }
   ],
   "execution_count": 4
  },
  {
   "metadata": {},
   "cell_type": "markdown",
   "source": [
    "Exercise 4: Age Binning and Survival Analysis\n",
    "Task:\n",
    "Create age bins: [0–10], [11–20], ..., [71+] and use .cut() to assign age groups. Plot the survival rate by age group."
   ],
   "id": "7297d0083f1322d"
  },
  {
   "metadata": {
    "ExecuteTime": {
     "end_time": "2025-07-26T11:13:16.202039Z",
     "start_time": "2025-07-26T11:13:16.189697Z"
    }
   },
   "cell_type": "code",
   "source": [
    "bins = [0, 10, 20, 30, 40, 50, 60, 70]\n",
    "\n",
    "labels = ['0-10', '11-20', '21-30', '31-40', '41-50', '51-60', '70+']\n",
    "\n",
    "df['AgeGroup'] = pd.cut(df['Age'], bins = bins, labels = labels, include_lowest = True)\n",
    "\n",
    "Total = df.groupby('AgeGroup', observed=True).size()\n",
    "Survived = df.groupby('AgeGroup', observed=True)['Survived'].sum().sort_index()\n",
    "\n",
    "survived_total = pd.DataFrame({\n",
    "    'Total': Total,\n",
    "    'Survived': Survived\n",
    "})\n",
    "\n",
    "survived_total['SurvivalRate'] = (survived_total['Survived']/survived_total['Total']) * 100\n",
    "print(survived_total)\n",
    "for age_group, row in survived_total.iterrows():\n",
    "    print(\"Age group\", age_group, \"had a survival rate of\", row['SurvivalRate'], \"%\")\n"
   ],
   "id": "6984e57f26fc881d",
   "outputs": [
    {
     "name": "stdout",
     "output_type": "stream",
     "text": [
      "          Total  Survived  SurvivalRate\n",
      "AgeGroup                               \n",
      "0-10         64        38     59.375000\n",
      "11-20       115        44     38.260870\n",
      "21-30       230        84     36.521739\n",
      "31-40       155        69     44.516129\n",
      "41-50        86        33     38.372093\n",
      "51-60        42        17     40.476190\n",
      "70+          17         4     23.529412\n",
      "Age group 0-10 had a survival rate of 59.375 %\n",
      "Age group 11-20 had a survival rate of 38.26086956521739 %\n",
      "Age group 21-30 had a survival rate of 36.52173913043478 %\n",
      "Age group 31-40 had a survival rate of 44.516129032258064 %\n",
      "Age group 41-50 had a survival rate of 38.372093023255815 %\n",
      "Age group 51-60 had a survival rate of 40.476190476190474 %\n",
      "Age group 70+ had a survival rate of 23.52941176470588 %\n"
     ]
    }
   ],
   "execution_count": 5
  },
  {
   "metadata": {},
   "cell_type": "markdown",
   "source": [
    "Exercise 5: Cross Tab: Class vs. Sex vs. Survival\n",
    "Task:\n",
    "Create a pivot table showing survival counts and rates grouped by both Pclass and Sex."
   ],
   "id": "4b50e0972961a980"
  },
  {
   "metadata": {
    "ExecuteTime": {
     "end_time": "2025-07-26T11:13:16.217927Z",
     "start_time": "2025-07-26T11:13:16.208449Z"
    }
   },
   "cell_type": "code",
   "source": [
    "pivot = df.pivot_table(\n",
    "    values='Survived',\n",
    "    index='Pclass',\n",
    "    columns='Sex',\n",
    "    aggfunc='mean'\n",
    ")\n",
    "\n",
    "print(pivot)"
   ],
   "id": "9072bca73ffdc256",
   "outputs": [
    {
     "name": "stdout",
     "output_type": "stream",
     "text": [
      "Sex       female      male\n",
      "Pclass                    \n",
      "1       0.968085  0.368852\n",
      "2       0.921053  0.157407\n",
      "3       0.500000  0.135447\n"
     ]
    }
   ],
   "execution_count": 6
  },
  {
   "metadata": {},
   "cell_type": "markdown",
   "source": "Exercise 6: Use the Title extracted in Exercise 1 to impute missing Age values with the median age of each title group.",
   "id": "5c7220cfc4bb3969"
  },
  {
   "metadata": {
    "ExecuteTime": {
     "end_time": "2025-07-26T11:13:16.236063Z",
     "start_time": "2025-07-26T11:13:16.225585Z"
    }
   },
   "cell_type": "code",
   "source": [
    "title_medians = df.groupby('Title')['Age'].median()\n",
    "print(title_medians)\n",
    "\n",
    "df['Age'] = df.apply(\n",
    "    lambda row: title_medians[row['Title']] if pd.isna(row['Age']) else row['Age'], axis=1\n",
    ")\n",
    "\n",
    "print('Number of Nan ages:', df['Age'].isna().sum())"
   ],
   "id": "6fc169e6012cf760",
   "outputs": [
    {
     "name": "stdout",
     "output_type": "stream",
     "text": [
      "Title\n",
      "Dr        46.5\n",
      "Master     3.5\n",
      "Miss      21.0\n",
      "Mr        30.0\n",
      "Mrs       35.0\n",
      "Ms        28.0\n",
      "Name: Age, dtype: float64\n",
      "Number of Nan ages: 0\n"
     ]
    }
   ],
   "execution_count": 7
  },
  {
   "metadata": {},
   "cell_type": "markdown",
   "source": "",
   "id": "f68a9add3a8561b0"
  },
  {
   "metadata": {},
   "cell_type": "markdown",
   "source": [
    "Exercise 7: Task:\n",
    "Encode Sex, Embarked, and Title using .map() or pd.get_dummies(), and compute a correlation matrix to see which features most strongly correlate with Survived."
   ],
   "id": "24cbac71af263f0f"
  },
  {
   "metadata": {
    "ExecuteTime": {
     "end_time": "2025-07-26T11:13:16.426072Z",
     "start_time": "2025-07-26T11:13:16.246323Z"
    }
   },
   "cell_type": "code",
   "source": [
    "import seaborn as sns\n",
    "import matplotlib.pyplot as plt\n",
    "df['Sex_map'] = df['Sex'].map({'male': 0, 'female': 1})\n",
    "embarked_map = {'S':0, 'C':1, 'Q':2}\n",
    "df['Embarked_map'] = df['Embarked'].map(embarked_map)\n",
    "title_map = {\n",
    "    'Mr' : 0,\n",
    "    'Mrs' : 1,\n",
    "    'Master' : 2,\n",
    "    'Dr' : 3,\n",
    "    'Miss' : 4,\n",
    "    'Ms' : 5,\n",
    "}\n",
    "df['Title_map'] = df['Title'].map(title_map)\n",
    "\n",
    "corr_columns = ['Survived', 'Sex_map', 'Embarked_map', 'Title_map']\n",
    "corr_matrix = df[corr_columns].corr()\n",
    "print(corr_matrix)\n",
    "\n",
    "sns.heatmap(corr_matrix, annot=True, cmap='coolwarm', fmt='.2f')\n",
    "plt.title('Titanic correlation heatmap')\n",
    "plt.show()"
   ],
   "id": "f350eed9c41c7ee2",
   "outputs": [
    {
     "name": "stdout",
     "output_type": "stream",
     "text": [
      "              Survived   Sex_map  Embarked_map  Title_map\n",
      "Survived      1.000000  0.543351      0.108669   0.439530\n",
      "Sex_map       0.543351  1.000000      0.118593   0.779614\n",
      "Embarked_map  0.108669  0.118593      1.000000   0.165745\n",
      "Title_map     0.439530  0.779614      0.165745   1.000000\n"
     ]
    },
    {
     "data": {
      "text/plain": [
       "<Figure size 640x480 with 2 Axes>"
      ],
      "image/png": "[encoded data removed]"
     },
     "metadata": {},
     "output_type": "display_data"
    }
   ],
   "execution_count": 8
  },
  {
   "metadata": {},
   "cell_type": "markdown",
   "source": "Exercise 8: Group passengers by Ticket number and identify tickets shared by multiple passengers. For these, compute the survival rate of all passengers sharing the same ticket.",
   "id": "d5df85bcdbad48b"
  },
  {
   "metadata": {
    "ExecuteTime": {
     "end_time": "2025-07-26T11:13:17.201391Z",
     "start_time": "2025-07-26T11:13:17.181865Z"
    }
   },
   "cell_type": "code",
   "source": [
    "Total = df.groupby('Ticket').size()\n",
    "Survived = df.groupby('Ticket')['Survived'].sum().sort_index()\n",
    "\n",
    "survived_total = pd.DataFrame({\n",
    "    'Total': Total,\n",
    "    'Survived': Survived\n",
    "})\n",
    "\n",
    "survived_total['SurvivalRate'] = (survived_total['Survived']/survived_total['Total']) * 100\n",
    "\n",
    "for ticket, row in survived_total.iterrows():\n",
    "    if row['Survived'] > 1:\n",
    "        print(\"Ticket\", ticket,\"with\", row['Survived'], \"people, had a survival rate of\", row['SurvivalRate'], \"%\")"
   ],
   "id": "eae05a65639eeca7",
   "outputs": [
    {
     "name": "stdout",
     "output_type": "stream",
     "text": [
      "Ticket 110152 with 3.0 people, had a survival rate of 100.0 %\n",
      "Ticket 110413 with 2.0 people, had a survival rate of 66.66666666666666 %\n",
      "Ticket 111361 with 2.0 people, had a survival rate of 100.0 %\n",
      "Ticket 113505 with 2.0 people, had a survival rate of 100.0 %\n",
      "Ticket 113572 with 2.0 people, had a survival rate of 100.0 %\n",
      "Ticket 113760 with 4.0 people, had a survival rate of 100.0 %\n",
      "Ticket 113781 with 2.0 people, had a survival rate of 50.0 %\n",
      "Ticket 113806 with 2.0 people, had a survival rate of 100.0 %\n",
      "Ticket 11751 with 2.0 people, had a survival rate of 100.0 %\n",
      "Ticket 11767 with 2.0 people, had a survival rate of 100.0 %\n",
      "Ticket 11967 with 2.0 people, had a survival rate of 100.0 %\n",
      "Ticket 12749 with 2.0 people, had a survival rate of 100.0 %\n",
      "Ticket 13502 with 3.0 people, had a survival rate of 100.0 %\n",
      "Ticket 1601 with 5.0 people, had a survival rate of 71.42857142857143 %\n",
      "Ticket 16966 with 2.0 people, had a survival rate of 100.0 %\n",
      "Ticket 17421 with 3.0 people, had a survival rate of 75.0 %\n",
      "Ticket 17453 with 2.0 people, had a survival rate of 100.0 %\n",
      "Ticket 17474 with 2.0 people, had a survival rate of 100.0 %\n",
      "Ticket 19943 with 2.0 people, had a survival rate of 100.0 %\n",
      "Ticket 19950 with 2.0 people, had a survival rate of 50.0 %\n",
      "Ticket 19996 with 2.0 people, had a survival rate of 100.0 %\n",
      "Ticket 220845 with 2.0 people, had a survival rate of 100.0 %\n",
      "Ticket 230080 with 2.0 people, had a survival rate of 66.66666666666666 %\n",
      "Ticket 230136 with 2.0 people, had a survival rate of 100.0 %\n",
      "Ticket 230433 with 2.0 people, had a survival rate of 100.0 %\n",
      "Ticket 231919 with 2.0 people, had a survival rate of 100.0 %\n",
      "Ticket 24160 with 3.0 people, had a survival rate of 100.0 %\n",
      "Ticket 248727 with 2.0 people, had a survival rate of 66.66666666666666 %\n",
      "Ticket 248738 with 2.0 people, had a survival rate of 100.0 %\n",
      "Ticket 250644 with 2.0 people, had a survival rate of 100.0 %\n",
      "Ticket 250649 with 2.0 people, had a survival rate of 100.0 %\n",
      "Ticket 26360 with 2.0 people, had a survival rate of 100.0 %\n",
      "Ticket 2651 with 2.0 people, had a survival rate of 100.0 %\n",
      "Ticket 2653 with 2.0 people, had a survival rate of 100.0 %\n",
      "Ticket 2661 with 2.0 people, had a survival rate of 100.0 %\n",
      "Ticket 2666 with 4.0 people, had a survival rate of 100.0 %\n",
      "Ticket 2668 with 2.0 people, had a survival rate of 100.0 %\n",
      "Ticket 2908 with 2.0 people, had a survival rate of 100.0 %\n",
      "Ticket 29106 with 3.0 people, had a survival rate of 100.0 %\n",
      "Ticket 347077 with 3.0 people, had a survival rate of 75.0 %\n",
      "Ticket 347742 with 3.0 people, had a survival rate of 100.0 %\n",
      "Ticket 35273 with 2.0 people, had a survival rate of 66.66666666666666 %\n",
      "Ticket 363291 with 2.0 people, had a survival rate of 66.66666666666666 %\n",
      "Ticket 364516 with 2.0 people, had a survival rate of 100.0 %\n",
      "Ticket 367226 with 2.0 people, had a survival rate of 100.0 %\n",
      "Ticket 367230 with 2.0 people, had a survival rate of 100.0 %\n",
      "Ticket 36928 with 2.0 people, had a survival rate of 100.0 %\n",
      "Ticket 36947 with 2.0 people, had a survival rate of 100.0 %\n",
      "Ticket 392096 with 2.0 people, had a survival rate of 100.0 %\n",
      "Ticket C.A. 31921 with 2.0 people, had a survival rate of 66.66666666666666 %\n",
      "Ticket C.A. 34651 with 2.0 people, had a survival rate of 66.66666666666666 %\n",
      "Ticket C.A. 37671 with 2.0 people, had a survival rate of 100.0 %\n",
      "Ticket F.C.C. 13529 with 2.0 people, had a survival rate of 66.66666666666666 %\n",
      "Ticket PC 17477 with 2.0 people, had a survival rate of 100.0 %\n",
      "Ticket PC 17485 with 2.0 people, had a survival rate of 100.0 %\n",
      "Ticket PC 17569 with 2.0 people, had a survival rate of 100.0 %\n",
      "Ticket PC 17572 with 3.0 people, had a survival rate of 100.0 %\n",
      "Ticket PC 17582 with 2.0 people, had a survival rate of 66.66666666666666 %\n",
      "Ticket PC 17608 with 2.0 people, had a survival rate of 100.0 %\n",
      "Ticket PC 17611 with 2.0 people, had a survival rate of 100.0 %\n",
      "Ticket PC 17755 with 3.0 people, had a survival rate of 100.0 %\n",
      "Ticket PC 17757 with 3.0 people, had a survival rate of 75.0 %\n",
      "Ticket PC 17760 with 2.0 people, had a survival rate of 66.66666666666666 %\n",
      "Ticket PP 9549 with 2.0 people, had a survival rate of 100.0 %\n",
      "Ticket SC/Paris 2123 with 2.0 people, had a survival rate of 66.66666666666666 %\n"
     ]
    }
   ],
   "execution_count": 9
  },
  {
   "metadata": {},
   "cell_type": "markdown",
   "source": "Exercise 9: Calculate a new column FarePerPerson = Fare / FamilySize. Analyze the correlation between FarePerPerson and Survived.",
   "id": "e4455fbbc1cab384"
  },
  {
   "metadata": {
    "ExecuteTime": {
     "end_time": "2025-07-26T11:33:41.745015Z",
     "start_time": "2025-07-26T11:33:41.666009Z"
    }
   },
   "cell_type": "code",
   "source": [
    "df['FarePerPerson'] = df['Fare'] / df['Family_size']\n",
    "\n",
    "corr_columns = ['Survived', 'FarePerPerson']\n",
    "corr_matrix = df[corr_columns].corr()\n",
    "print(corr_matrix)\n",
    "\n",
    "sns.heatmap(corr_matrix, annot=True, cmap='coolwarm', fmt='.2f')\n",
    "plt.title('Titanic correlation heatmap')\n",
    "plt.show()"
   ],
   "id": "67a6c60b694bec1a",
   "outputs": [
    {
     "name": "stdout",
     "output_type": "stream",
     "text": [
      "               Survived  FarePerPerson\n",
      "Survived         1.0000         0.2216\n",
      "FarePerPerson    0.2216         1.0000\n"
     ]
    },
    {
     "data": {
      "text/plain": [
       "<Figure size 640x480 with 2 Axes>"
      ],
      "image/png": "[encoded data removed]"
     },
     "metadata": {},
     "output_type": "display_data"
    }
   ],
   "execution_count": 35
  },
  {
   "metadata": {},
   "cell_type": "markdown",
   "source": "Exercise 10: Create a new categorical feature that combines Pclass and fare quantiles (e.g., '1_HighFare', '2_LowFare', etc.). Analyze survival across these new categories.",
   "id": "c6e5e7ce7a4c7fef"
  },
  {
   "metadata": {
    "ExecuteTime": {
     "end_time": "2025-07-26T12:05:36.192701Z",
     "start_time": "2025-07-26T12:05:36.180952Z"
    }
   },
   "cell_type": "code",
   "source": [
    "def fare_quantiles(group):\n",
    "    return pd.qcut(group['FarePerPerson'], q=2, labels=['LowFare', 'HighFare'])\n",
    "\n",
    "df['FareQuantiles'] = df.groupby('Pclass')['FarePerPerson'].transform(lambda x: pd.qcut(x, q=2, labels=['LowFare', 'HighFare']))\n",
    "\n",
    "df['FareCategory'] = df['Pclass'].astype(str) + '_' + df['FareQuantiles'].astype(str)\n",
    "\n",
    "Total = df.groupby('FareCategory').size()\n",
    "Survived = df.groupby('FareCategory')['Survived'].sum().sort_index()\n",
    "\n",
    "survived_total = pd.DataFrame({\n",
    "    'Total': Total,\n",
    "    'Survived': Survived\n",
    "})\n",
    "print(survived_total)\n",
    "\n",
    "survived_total['SurvivalRate'] = (survived_total['Survived']/survived_total['Total']) * 100\n",
    "\n",
    "for fare_category, row in survived_total.iterrows():\n",
    "    print(\"The fare category\", fare_category, \"had a survival rate of\", row['SurvivalRate'], \"%\")"
   ],
   "id": "95cce0de2fba428b",
   "outputs": [
    {
     "name": "stdout",
     "output_type": "stream",
     "text": [
      "              Total  Survived\n",
      "FareCategory                 \n",
      "1_HighFare      108        72\n",
      "1_LowFare       108        64\n",
      "2_HighFare       34        12\n",
      "2_LowFare       150        75\n",
      "3_HighFare      227        45\n",
      "3_LowFare       264        74\n",
      "The fare category 1_HighFare had a survival rate of 66.66666666666666 %\n",
      "The fare category 1_LowFare had a survival rate of 59.25925925925925 %\n",
      "The fare category 2_HighFare had a survival rate of 35.294117647058826 %\n",
      "The fare category 2_LowFare had a survival rate of 50.0 %\n",
      "The fare category 3_HighFare had a survival rate of 19.823788546255507 %\n",
      "The fare category 3_LowFare had a survival rate of 28.030303030303028 %\n"
     ]
    }
   ],
   "execution_count": 76
  }
 ],
 "metadata": {
  "kernelspec": {
   "display_name": "Python [conda env:base] *",
   "language": "python",
   "name": "conda-base-py"
  },
  "language_info": {
   "codemirror_mode": {
    "name": "ipython",
    "version": 2
   },
   "file_extension": ".py",
   "mimetype": "text/x-python",
   "name": "python",
   "nbconvert_exporter": "python",
   "pygments_lexer": "ipython2",
   "version": "2.7.6"
  }
 },
 "nbformat": 4,
 "nbformat_minor": 5
}
