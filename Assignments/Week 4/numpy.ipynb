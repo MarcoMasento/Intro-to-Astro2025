{
 "cells": [
  {
   "attachments": {
    "numpy.png": {
     "image/png": "[encoded data removed]"
    }
   },
   "cell_type": "markdown",
   "metadata": {},
   "source": [
    "# Python Libraries 1\n",
    "# Numpy ![numpy.png](attachment:numpy.png)"
   ]
  },
  {
   "cell_type": "code",
   "metadata": {
    "ExecuteTime": {
     "end_time": "2025-07-23T21:04:31.642398Z",
     "start_time": "2025-07-23T21:04:31.580131Z"
    }
   },
   "source": "import numpy\n",
   "outputs": [],
   "execution_count": 1
  },
  {
   "cell_type": "code",
   "metadata": {
    "ExecuteTime": {
     "end_time": "2025-07-23T21:04:32.421959Z",
     "start_time": "2025-07-23T21:04:32.419236Z"
    }
   },
   "source": [
    "l=[1,2,3]\n",
    "arr=numpy.array(l)"
   ],
   "outputs": [],
   "execution_count": 2
  },
  {
   "cell_type": "code",
   "metadata": {
    "ExecuteTime": {
     "end_time": "2025-07-23T21:04:33.638473Z",
     "start_time": "2025-07-23T21:04:33.633994Z"
    }
   },
   "source": [
    "arr"
   ],
   "outputs": [
    {
     "data": {
      "text/plain": [
       "array([1, 2, 3])"
      ]
     },
     "execution_count": 3,
     "metadata": {},
     "output_type": "execute_result"
    }
   ],
   "execution_count": 3
  },
  {
   "cell_type": "code",
   "metadata": {
    "ExecuteTime": {
     "end_time": "2025-07-23T21:04:37.195472Z",
     "start_time": "2025-07-23T21:04:37.192860Z"
    }
   },
   "source": [
    "import numpy as np"
   ],
   "outputs": [],
   "execution_count": 5
  },
  {
   "cell_type": "code",
   "metadata": {
    "ExecuteTime": {
     "end_time": "2025-07-23T21:04:40.439934Z",
     "start_time": "2025-07-23T21:04:40.436355Z"
    }
   },
   "source": [
    "np.array(l)"
   ],
   "outputs": [
    {
     "data": {
      "text/plain": [
       "array([1, 2, 3])"
      ]
     },
     "execution_count": 6,
     "metadata": {},
     "output_type": "execute_result"
    }
   ],
   "execution_count": 6
  },
  {
   "cell_type": "code",
   "metadata": {
    "ExecuteTime": {
     "end_time": "2025-07-23T21:04:41.844979Z",
     "start_time": "2025-07-23T21:04:41.842412Z"
    }
   },
   "source": [
    "arr_1=np.array([1,2,3])"
   ],
   "outputs": [],
   "execution_count": 7
  },
  {
   "cell_type": "code",
   "metadata": {
    "ExecuteTime": {
     "end_time": "2025-07-23T21:04:44.037844Z",
     "start_time": "2025-07-23T21:04:44.034012Z"
    }
   },
   "source": [
    "arr_1"
   ],
   "outputs": [
    {
     "data": {
      "text/plain": [
       "array([1, 2, 3])"
      ]
     },
     "execution_count": 8,
     "metadata": {},
     "output_type": "execute_result"
    }
   ],
   "execution_count": 8
  },
  {
   "cell_type": "code",
   "metadata": {
    "ExecuteTime": {
     "end_time": "2025-07-23T21:06:35.159400Z",
     "start_time": "2025-07-23T21:06:35.156298Z"
    }
   },
   "source": [
    "arr_1+1"
   ],
   "outputs": [
    {
     "data": {
      "text/plain": [
       "array([2, 3, 4])"
      ]
     },
     "execution_count": 27,
     "metadata": {},
     "output_type": "execute_result"
    }
   ],
   "execution_count": 27
  },
  {
   "cell_type": "code",
   "metadata": {
    "ExecuteTime": {
     "end_time": "2025-07-23T21:11:21.520057Z",
     "start_time": "2025-07-23T21:11:21.517144Z"
    }
   },
   "source": [
    "arr_1*2"
   ],
   "outputs": [
    {
     "data": {
      "text/plain": [
       "array([2, 4, 6])"
      ]
     },
     "execution_count": 39,
     "metadata": {},
     "output_type": "execute_result"
    }
   ],
   "execution_count": 39
  },
  {
   "cell_type": "code",
   "metadata": {
    "ExecuteTime": {
     "end_time": "2025-07-23T21:13:00.162722Z",
     "start_time": "2025-07-23T21:13:00.159022Z"
    }
   },
   "source": [
    "l_1=[1,2,3]\n",
    "l_2=[2,3,4]\n",
    "l_1+l_2"
   ],
   "outputs": [
    {
     "data": {
      "text/plain": [
       "[1, 2, 3, 2, 3, 4]"
      ]
     },
     "execution_count": 51,
     "metadata": {},
     "output_type": "execute_result"
    }
   ],
   "execution_count": 51
  },
  {
   "cell_type": "code",
   "metadata": {
    "ExecuteTime": {
     "end_time": "2025-07-23T21:04:51.025076Z",
     "start_time": "2025-07-23T21:04:51.022321Z"
    }
   },
   "source": [
    "arr_1=np.array(l_1)\n",
    "arr_2=np.array(l_2)"
   ],
   "outputs": [],
   "execution_count": 12
  },
  {
   "cell_type": "code",
   "metadata": {
    "ExecuteTime": {
     "end_time": "2025-07-23T21:04:52.578550Z",
     "start_time": "2025-07-23T21:04:52.574995Z"
    }
   },
   "source": [
    "arr_1+arr_2"
   ],
   "outputs": [
    {
     "data": {
      "text/plain": [
       "array([3, 5, 7])"
      ]
     },
     "execution_count": 13,
     "metadata": {},
     "output_type": "execute_result"
    }
   ],
   "execution_count": 13
  },
  {
   "cell_type": "code",
   "metadata": {
    "ExecuteTime": {
     "end_time": "2025-07-23T21:04:54.028851Z",
     "start_time": "2025-07-23T21:04:54.026021Z"
    }
   },
   "source": [
    "arr_1.sum()"
   ],
   "outputs": [
    {
     "data": {
      "text/plain": [
       "np.int64(6)"
      ]
     },
     "execution_count": 14,
     "metadata": {},
     "output_type": "execute_result"
    }
   ],
   "execution_count": 14
  },
  {
   "cell_type": "code",
   "metadata": {
    "ExecuteTime": {
     "end_time": "2025-07-23T21:04:55.985769Z",
     "start_time": "2025-07-23T21:04:55.982840Z"
    }
   },
   "source": [
    "#Indexing\n",
    "arr_1[0]"
   ],
   "outputs": [
    {
     "data": {
      "text/plain": [
       "np.int64(1)"
      ]
     },
     "execution_count": 15,
     "metadata": {},
     "output_type": "execute_result"
    }
   ],
   "execution_count": 15
  },
  {
   "cell_type": "code",
   "metadata": {
    "ExecuteTime": {
     "end_time": "2025-07-23T21:05:00.528202Z",
     "start_time": "2025-07-23T21:05:00.524963Z"
    }
   },
   "source": [
    "arr_1[2]"
   ],
   "outputs": [
    {
     "data": {
      "text/plain": [
       "np.int64(3)"
      ]
     },
     "execution_count": 16,
     "metadata": {},
     "output_type": "execute_result"
    }
   ],
   "execution_count": 16
  },
  {
   "cell_type": "code",
   "metadata": {
    "ExecuteTime": {
     "end_time": "2025-07-23T21:05:05.528757Z",
     "start_time": "2025-07-23T21:05:05.525886Z"
    }
   },
   "source": [
    "for i in arr_1:\n",
    "    print(i)"
   ],
   "outputs": [
    {
     "name": "stdout",
     "output_type": "stream",
     "text": [
      "1\n",
      "2\n",
      "3\n"
     ]
    }
   ],
   "execution_count": 17
  },
  {
   "cell_type": "code",
   "metadata": {
    "ExecuteTime": {
     "end_time": "2025-07-23T21:05:14.423724Z",
     "start_time": "2025-07-23T21:05:14.420864Z"
    }
   },
   "source": [
    "arr_2D=np.array([[1,1],[2,1],[3,2]])"
   ],
   "outputs": [],
   "execution_count": 18
  },
  {
   "cell_type": "code",
   "metadata": {
    "ExecuteTime": {
     "end_time": "2025-07-23T21:05:16.121867Z",
     "start_time": "2025-07-23T21:05:16.118327Z"
    }
   },
   "source": [
    "arr_2D"
   ],
   "outputs": [
    {
     "data": {
      "text/plain": [
       "array([[1, 1],\n",
       "       [2, 1],\n",
       "       [3, 2]])"
      ]
     },
     "execution_count": 19,
     "metadata": {},
     "output_type": "execute_result"
    }
   ],
   "execution_count": 19
  },
  {
   "cell_type": "code",
   "metadata": {
    "ExecuteTime": {
     "end_time": "2025-07-23T21:06:19.670385Z",
     "start_time": "2025-07-23T21:06:19.666563Z"
    }
   },
   "source": [
    "rand_array=np.random.random(size=[3,2])\n",
    "rand_array"
   ],
   "outputs": [
    {
     "data": {
      "text/plain": [
       "array([[0.91353318, 0.45702468],\n",
       "       [0.87182799, 0.55084952],\n",
       "       [0.03277368, 0.59210615]])"
      ]
     },
     "execution_count": 22,
     "metadata": {},
     "output_type": "execute_result"
    }
   ],
   "execution_count": 22
  },
  {
   "cell_type": "code",
   "metadata": {
    "ExecuteTime": {
     "end_time": "2025-07-23T21:05:59.205989Z",
     "start_time": "2025-07-23T21:05:59.202206Z"
    }
   },
   "source": [
    "zero_array=np.zeros(shape=[3,2])\n",
    "zero_array"
   ],
   "outputs": [
    {
     "data": {
      "text/plain": [
       "array([[0., 0.],\n",
       "       [0., 0.],\n",
       "       [0., 0.]])"
      ]
     },
     "execution_count": 21,
     "metadata": {},
     "output_type": "execute_result"
    }
   ],
   "execution_count": 21
  },
  {
   "cell_type": "code",
   "metadata": {
    "ExecuteTime": {
     "end_time": "2025-07-23T21:06:24.214099Z",
     "start_time": "2025-07-23T21:06:24.210920Z"
    }
   },
   "source": [
    "zero_array"
   ],
   "outputs": [
    {
     "data": {
      "text/plain": [
       "array([[0., 0.],\n",
       "       [0., 0.],\n",
       "       [0., 0.]])"
      ]
     },
     "execution_count": 23,
     "metadata": {},
     "output_type": "execute_result"
    }
   ],
   "execution_count": 23
  },
  {
   "cell_type": "code",
   "metadata": {
    "ExecuteTime": {
     "end_time": "2025-07-23T21:06:32.828392Z",
     "start_time": "2025-07-23T21:06:32.825554Z"
    }
   },
   "source": [
    "rand_array=np.random.random(size=[5,5])"
   ],
   "outputs": [],
   "execution_count": 26
  },
  {
   "cell_type": "code",
   "metadata": {
    "ExecuteTime": {
     "end_time": "2025-07-23T21:06:36.458492Z",
     "start_time": "2025-07-23T21:06:36.455537Z"
    }
   },
   "source": [
    "rand_array"
   ],
   "outputs": [
    {
     "data": {
      "text/plain": [
       "array([[0.01398891, 0.82500228, 0.54768364, 0.3703053 , 0.77814039],\n",
       "       [0.90283305, 0.47190764, 0.60253278, 0.32391035, 0.87190817],\n",
       "       [0.2067182 , 0.91728862, 0.26364512, 0.65412682, 0.20905419],\n",
       "       [0.96842956, 0.8501293 , 0.53654703, 0.45736243, 0.47868419],\n",
       "       [0.11707279, 0.52755471, 0.65593238, 0.11722274, 0.24648726]])"
      ]
     },
     "execution_count": 28,
     "metadata": {},
     "output_type": "execute_result"
    }
   ],
   "execution_count": 28
  },
  {
   "cell_type": "code",
   "metadata": {
    "ExecuteTime": {
     "end_time": "2025-07-23T21:07:14.969485Z",
     "start_time": "2025-07-23T21:07:14.966007Z"
    }
   },
   "source": [
    "rand_array[1,1]"
   ],
   "outputs": [
    {
     "data": {
      "text/plain": [
       "np.float64(0.47190764230915627)"
      ]
     },
     "execution_count": 29,
     "metadata": {},
     "output_type": "execute_result"
    }
   ],
   "execution_count": 29
  },
  {
   "cell_type": "code",
   "metadata": {
    "ExecuteTime": {
     "end_time": "2025-07-23T21:07:37.565408Z",
     "start_time": "2025-07-23T21:07:37.561724Z"
    }
   },
   "source": [
    "rand_array[0:2,0:2]"
   ],
   "outputs": [
    {
     "data": {
      "text/plain": [
       "array([[0.01398891, 0.82500228],\n",
       "       [0.90283305, 0.47190764]])"
      ]
     },
     "execution_count": 30,
     "metadata": {},
     "output_type": "execute_result"
    }
   ],
   "execution_count": 30
  },
  {
   "cell_type": "code",
   "metadata": {
    "ExecuteTime": {
     "end_time": "2025-07-23T21:09:45.248748Z",
     "start_time": "2025-07-23T21:09:45.245648Z"
    }
   },
   "source": [
    "rand_array.sum(axis=1)"
   ],
   "outputs": [
    {
     "data": {
      "text/plain": [
       "array([2.53512053, 3.17309199, 2.25083293, 3.2911525 , 1.66426988])"
      ]
     },
     "execution_count": 31,
     "metadata": {},
     "output_type": "execute_result"
    }
   ],
   "execution_count": 31
  },
  {
   "cell_type": "code",
   "metadata": {
    "ExecuteTime": {
     "end_time": "2025-07-23T21:10:37.243777Z",
     "start_time": "2025-07-23T21:10:37.240486Z"
    }
   },
   "source": [
    "np.array([0.4924862 , 0.58400964, 0.42182289, 0.31476085, 0.26750594]).sum()"
   ],
   "outputs": [
    {
     "data": {
      "text/plain": [
       "np.float64(2.08058552)"
      ]
     },
     "execution_count": 32,
     "metadata": {},
     "output_type": "execute_result"
    }
   ],
   "execution_count": 32
  },
  {
   "cell_type": "code",
   "metadata": {
    "ExecuteTime": {
     "end_time": "2025-07-23T21:10:47.828052Z",
     "start_time": "2025-07-23T21:10:47.824385Z"
    }
   },
   "source": [
    "rand_array*10"
   ],
   "outputs": [
    {
     "data": {
      "text/plain": [
       "array([[0.13988911, 8.25002281, 5.47683644, 3.70305296, 7.78140395],\n",
       "       [9.02833046, 4.71907642, 6.02532781, 3.23910345, 8.71908171],\n",
       "       [2.06718198, 9.17288617, 2.63645116, 6.54126815, 2.09054187],\n",
       "       [9.68429558, 8.50129296, 5.36547027, 4.57362426, 4.78684192],\n",
       "       [1.17072787, 5.27554715, 6.55932375, 1.17222745, 2.46487263]])"
      ]
     },
     "execution_count": 33,
     "metadata": {},
     "output_type": "execute_result"
    }
   ],
   "execution_count": 33
  },
  {
   "cell_type": "code",
   "metadata": {
    "ExecuteTime": {
     "end_time": "2025-07-23T21:10:59.466637Z",
     "start_time": "2025-07-23T21:10:59.463043Z"
    }
   },
   "source": [
    "rand_array"
   ],
   "outputs": [
    {
     "data": {
      "text/plain": [
       "array([[0.01398891, 0.82500228, 0.54768364, 0.3703053 , 0.77814039],\n",
       "       [0.90283305, 0.47190764, 0.60253278, 0.32391035, 0.87190817],\n",
       "       [0.2067182 , 0.91728862, 0.26364512, 0.65412682, 0.20905419],\n",
       "       [0.96842956, 0.8501293 , 0.53654703, 0.45736243, 0.47868419],\n",
       "       [0.11707279, 0.52755471, 0.65593238, 0.11722274, 0.24648726]])"
      ]
     },
     "execution_count": 34,
     "metadata": {},
     "output_type": "execute_result"
    }
   ],
   "execution_count": 34
  },
  {
   "cell_type": "code",
   "metadata": {
    "ExecuteTime": {
     "end_time": "2025-07-23T21:17:40.544868Z",
     "start_time": "2025-07-23T21:17:40.542177Z"
    }
   },
   "source": "rand_array=np.random.random(size=[10,10])",
   "outputs": [],
   "execution_count": 58
  },
  {
   "cell_type": "code",
   "metadata": {
    "ExecuteTime": {
     "end_time": "2025-07-23T21:13:28.279589Z",
     "start_time": "2025-07-23T21:13:28.276839Z"
    }
   },
   "source": [
    "rand_array.sort()\n"
   ],
   "outputs": [],
   "execution_count": 54
  },
  {
   "cell_type": "code",
   "metadata": {
    "ExecuteTime": {
     "end_time": "2025-07-23T21:13:33.269464Z",
     "start_time": "2025-07-23T21:13:33.265821Z"
    }
   },
   "source": [
    "rand_array"
   ],
   "outputs": [
    {
     "data": {
      "text/plain": [
       "array([0.01155201, 0.01373333, 0.03538558, 0.04016313, 0.05164793,\n",
       "       0.0873941 , 0.10046476, 0.10613975, 0.12677903, 0.13210231,\n",
       "       0.13303678, 0.13726326, 0.13912717, 0.14449936, 0.17476621,\n",
       "       0.17703553, 0.18471371, 0.18595595, 0.19304982, 0.19455125,\n",
       "       0.19827262, 0.20178996, 0.20756603, 0.22038569, 0.23088896,\n",
       "       0.23190699, 0.2386466 , 0.24838505, 0.25372227, 0.25603674,\n",
       "       0.3009757 , 0.33316373, 0.33505838, 0.33866998, 0.34019113,\n",
       "       0.34569292, 0.34578685, 0.36929725, 0.38127174, 0.38335317,\n",
       "       0.38871343, 0.39814043, 0.4015431 , 0.40740757, 0.41851145,\n",
       "       0.42487314, 0.43281835, 0.43745535, 0.43989509, 0.44817882,\n",
       "       0.45120112, 0.46345796, 0.47627596, 0.47985181, 0.48173495,\n",
       "       0.49925527, 0.54091766, 0.55118279, 0.5560255 , 0.57011529,\n",
       "       0.58918378, 0.60166026, 0.6186131 , 0.62093854, 0.64020881,\n",
       "       0.68715931, 0.7003525 , 0.71516874, 0.7253634 , 0.72806709,\n",
       "       0.73361878, 0.74114768, 0.7529761 , 0.75672509, 0.75695738,\n",
       "       0.76670732, 0.7867852 , 0.78920571, 0.78948248, 0.81845073,\n",
       "       0.82042767, 0.84122611, 0.85769265, 0.85982322, 0.86291841,\n",
       "       0.86911151, 0.88282826, 0.8919946 , 0.89745267, 0.91166396,\n",
       "       0.92183811, 0.93101613, 0.9340805 , 0.93799461, 0.93893252,\n",
       "       0.95043683, 0.95786732, 0.97338522, 0.99153514, 0.99332858])"
      ]
     },
     "execution_count": 55,
     "metadata": {},
     "output_type": "execute_result"
    }
   ],
   "execution_count": 55
  },
  {
   "cell_type": "code",
   "metadata": {
    "ExecuteTime": {
     "end_time": "2025-07-23T21:17:44.611899Z",
     "start_time": "2025-07-23T21:17:44.608672Z"
    }
   },
   "source": [
    "for row in rand_array:\n",
    "    for i in row:\n",
    "        print(i)"
   ],
   "outputs": [
    {
     "name": "stdout",
     "output_type": "stream",
     "text": [
      "0.9441839079478955\n",
      "0.5526946188443524\n",
      "0.023348812181262057\n",
      "0.7183748048994213\n",
      "0.6079537855284343\n",
      "0.11541072628612292\n",
      "0.5122194216207479\n",
      "0.030893831868488264\n",
      "0.16514117634025316\n",
      "0.1825826209337128\n",
      "0.655449752472919\n",
      "0.8502726476031337\n",
      "0.25318623531869056\n",
      "0.5060821434107042\n",
      "0.38977939364250713\n",
      "0.8072006905199534\n",
      "0.5330410679865343\n",
      "0.09701308023056443\n",
      "0.7868352005677399\n",
      "0.10306838488576964\n",
      "0.46210981335036216\n",
      "0.0804862357325391\n",
      "0.1504848209871319\n",
      "0.4865634201330734\n",
      "0.4124982150014932\n",
      "0.6494304771802419\n",
      "0.9425135028260311\n",
      "0.08858691458350465\n",
      "0.9776635880883157\n",
      "0.6565924580992741\n",
      "0.8996508462475402\n",
      "0.19973687345830382\n",
      "0.8251577248854801\n",
      "0.9143321659159687\n",
      "0.6731521850529869\n",
      "0.69133889483806\n",
      "0.8619677235748364\n",
      "0.6702288392810266\n",
      "0.1442452481682015\n",
      "0.9693746810345009\n",
      "0.7745716224921306\n",
      "0.7850337664884142\n",
      "0.8396929791378477\n",
      "0.860861367071017\n",
      "0.505875324101203\n",
      "0.7807269844284866\n",
      "0.5101673681554455\n",
      "0.39804925553532844\n",
      "0.49220096531511337\n",
      "0.09764186608651182\n",
      "0.22491549845865377\n",
      "0.03860623346779646\n",
      "0.793377714540756\n",
      "0.0339598435799604\n",
      "0.009069273719107152\n",
      "0.5790706977973175\n",
      "0.835974705254997\n",
      "0.9129590139672599\n",
      "0.9084488707984304\n",
      "0.6995249086602464\n",
      "0.5428589072286971\n",
      "0.4972760278298668\n",
      "0.6283527472254321\n",
      "0.3714112498577721\n",
      "0.42944042374228497\n",
      "0.6116945974368634\n",
      "0.46696038241905113\n",
      "0.06849302685533909\n",
      "0.5868795069510536\n",
      "0.6151942377326376\n",
      "0.601175547074305\n",
      "0.8491216118031611\n",
      "0.7244371749667254\n",
      "0.9017619205602145\n",
      "0.26194810209792585\n",
      "0.046836345652960354\n",
      "0.0988152302902382\n",
      "0.7592504795775907\n",
      "0.6958060299809059\n",
      "0.820578981282888\n",
      "0.9434214421221463\n",
      "0.8680641334354656\n",
      "0.7549829134966248\n",
      "0.981295451663458\n",
      "0.5562567177715537\n",
      "0.4498958160987485\n",
      "0.22137777271814518\n",
      "0.48049389238941465\n",
      "0.040991242326621546\n",
      "0.7607108393077958\n",
      "0.0009970747759967535\n",
      "0.6307395755284554\n",
      "0.5623543717060495\n",
      "0.4782993848693917\n",
      "0.5200904987444467\n",
      "0.7880129355226704\n",
      "0.7500963312720295\n",
      "0.5285697853433483\n",
      "0.005854431433417573\n",
      "0.24143120728763856\n"
     ]
    }
   ],
   "execution_count": 59
  },
  {
   "cell_type": "code",
   "execution_count": 37,
   "metadata": {},
   "outputs": [],
   "source": [
    "# Exercises."
   ]
  },
  {
   "cell_type": "code",
   "metadata": {
    "ExecuteTime": {
     "end_time": "2025-07-23T21:19:47.009259Z",
     "start_time": "2025-07-23T21:19:47.004806Z"
    }
   },
   "source": [
    "x=np.linspace(0,10,100)\n",
    "print(x)\n",
    "x.sum()"
   ],
   "outputs": [
    {
     "name": "stdout",
     "output_type": "stream",
     "text": [
      "[ 0.          0.1010101   0.2020202   0.3030303   0.4040404   0.50505051\n",
      "  0.60606061  0.70707071  0.80808081  0.90909091  1.01010101  1.11111111\n",
      "  1.21212121  1.31313131  1.41414141  1.51515152  1.61616162  1.71717172\n",
      "  1.81818182  1.91919192  2.02020202  2.12121212  2.22222222  2.32323232\n",
      "  2.42424242  2.52525253  2.62626263  2.72727273  2.82828283  2.92929293\n",
      "  3.03030303  3.13131313  3.23232323  3.33333333  3.43434343  3.53535354\n",
      "  3.63636364  3.73737374  3.83838384  3.93939394  4.04040404  4.14141414\n",
      "  4.24242424  4.34343434  4.44444444  4.54545455  4.64646465  4.74747475\n",
      "  4.84848485  4.94949495  5.05050505  5.15151515  5.25252525  5.35353535\n",
      "  5.45454545  5.55555556  5.65656566  5.75757576  5.85858586  5.95959596\n",
      "  6.06060606  6.16161616  6.26262626  6.36363636  6.46464646  6.56565657\n",
      "  6.66666667  6.76767677  6.86868687  6.96969697  7.07070707  7.17171717\n",
      "  7.27272727  7.37373737  7.47474747  7.57575758  7.67676768  7.77777778\n",
      "  7.87878788  7.97979798  8.08080808  8.18181818  8.28282828  8.38383838\n",
      "  8.48484848  8.58585859  8.68686869  8.78787879  8.88888889  8.98989899\n",
      "  9.09090909  9.19191919  9.29292929  9.39393939  9.49494949  9.5959596\n",
      "  9.6969697   9.7979798   9.8989899  10.        ]\n"
     ]
    },
    {
     "data": {
      "text/plain": [
       "np.float64(500.0)"
      ]
     },
     "execution_count": 63,
     "metadata": {},
     "output_type": "execute_result"
    }
   ],
   "execution_count": 63
  },
  {
   "cell_type": "code",
   "execution_count": null,
   "metadata": {},
   "outputs": [],
   "source": []
  },
  {
   "cell_type": "code",
   "metadata": {
    "ExecuteTime": {
     "end_time": "2025-07-23T21:19:56.592971Z",
     "start_time": "2025-07-23T21:19:56.588633Z"
    }
   },
   "source": [
    "#Calculate y=7x+2\n",
    "y=7*x+2\n",
    "y"
   ],
   "outputs": [
    {
     "data": {
      "text/plain": [
       "array([ 2.        ,  2.70707071,  3.41414141,  4.12121212,  4.82828283,\n",
       "        5.53535354,  6.24242424,  6.94949495,  7.65656566,  8.36363636,\n",
       "        9.07070707,  9.77777778, 10.48484848, 11.19191919, 11.8989899 ,\n",
       "       12.60606061, 13.31313131, 14.02020202, 14.72727273, 15.43434343,\n",
       "       16.14141414, 16.84848485, 17.55555556, 18.26262626, 18.96969697,\n",
       "       19.67676768, 20.38383838, 21.09090909, 21.7979798 , 22.50505051,\n",
       "       23.21212121, 23.91919192, 24.62626263, 25.33333333, 26.04040404,\n",
       "       26.74747475, 27.45454545, 28.16161616, 28.86868687, 29.57575758,\n",
       "       30.28282828, 30.98989899, 31.6969697 , 32.4040404 , 33.11111111,\n",
       "       33.81818182, 34.52525253, 35.23232323, 35.93939394, 36.64646465,\n",
       "       37.35353535, 38.06060606, 38.76767677, 39.47474747, 40.18181818,\n",
       "       40.88888889, 41.5959596 , 42.3030303 , 43.01010101, 43.71717172,\n",
       "       44.42424242, 45.13131313, 45.83838384, 46.54545455, 47.25252525,\n",
       "       47.95959596, 48.66666667, 49.37373737, 50.08080808, 50.78787879,\n",
       "       51.49494949, 52.2020202 , 52.90909091, 53.61616162, 54.32323232,\n",
       "       55.03030303, 55.73737374, 56.44444444, 57.15151515, 57.85858586,\n",
       "       58.56565657, 59.27272727, 59.97979798, 60.68686869, 61.39393939,\n",
       "       62.1010101 , 62.80808081, 63.51515152, 64.22222222, 64.92929293,\n",
       "       65.63636364, 66.34343434, 67.05050505, 67.75757576, 68.46464646,\n",
       "       69.17171717, 69.87878788, 70.58585859, 71.29292929, 72.        ])"
      ]
     },
     "execution_count": 64,
     "metadata": {},
     "output_type": "execute_result"
    }
   ],
   "execution_count": 64
  },
  {
   "cell_type": "code",
   "metadata": {
    "ExecuteTime": {
     "end_time": "2025-07-23T21:20:50.554116Z",
     "start_time": "2025-07-23T21:20:50.550605Z"
    }
   },
   "source": [
    "#Calculate y=x**2 for the first 10 elements\n",
    "first_10=x[0:10]\n",
    "y=first_10**2\n",
    "y"
   ],
   "outputs": [
    {
     "data": {
      "text/plain": [
       "array([0.        , 0.01020304, 0.04081216, 0.09182736, 0.16324865,\n",
       "       0.25507601, 0.36730946, 0.49994898, 0.65299459, 0.82644628])"
      ]
     },
     "execution_count": 65,
     "metadata": {},
     "output_type": "execute_result"
    }
   ],
   "execution_count": 65
  },
  {
   "cell_type": "code",
   "metadata": {
    "ExecuteTime": {
     "end_time": "2025-07-23T21:21:04.935601Z",
     "start_time": "2025-07-23T21:21:04.932047Z"
    }
   },
   "source": [
    "x[2]*x[2]"
   ],
   "outputs": [
    {
     "data": {
      "text/plain": [
       "np.float64(0.040812162024283234)"
      ]
     },
     "execution_count": 66,
     "metadata": {},
     "output_type": "execute_result"
    }
   ],
   "execution_count": 66
  },
  {
   "cell_type": "code",
   "metadata": {
    "ExecuteTime": {
     "end_time": "2025-07-23T21:22:01.761094Z",
     "start_time": "2025-07-23T21:22:01.758706Z"
    }
   },
   "source": [
    "#Define a 100 equally spaced points using linespace. And then another 100 random points. And then add x and y together\n",
    "x=np.linspace(0,10,100)\n",
    "\n",
    "y=np.random.random(size=100)\n"
   ],
   "outputs": [],
   "execution_count": 67
  },
  {
   "cell_type": "code",
   "metadata": {
    "ExecuteTime": {
     "end_time": "2025-07-23T21:22:04.708428Z",
     "start_time": "2025-07-23T21:22:04.705630Z"
    }
   },
   "source": [
    "#Add x and y together and save in z\n",
    "z=x+y"
   ],
   "outputs": [],
   "execution_count": 68
  },
  {
   "cell_type": "code",
   "execution_count": 51,
   "metadata": {},
   "outputs": [],
   "source": "#Calculate the sum of x,y and z and tell me which one is the largest"
  },
  {
   "cell_type": "code",
   "metadata": {
    "ExecuteTime": {
     "end_time": "2025-07-23T21:22:13.470514Z",
     "start_time": "2025-07-23T21:22:13.466406Z"
    }
   },
   "source": [
    "z"
   ],
   "outputs": [
    {
     "data": {
      "text/plain": [
       "array([ 0.40409196,  0.32251823,  0.76150239,  0.49022343,  1.18113308,\n",
       "        0.82346558,  0.77199299,  1.46423256,  0.83603465,  1.44922233,\n",
       "        1.89437276,  1.78772383,  1.62713177,  2.23115103,  1.59915904,\n",
       "        1.98820193,  2.1870048 ,  2.35542289,  2.76348068,  2.28681625,\n",
       "        2.91945007,  2.64597691,  2.30874077,  2.64883738,  2.73481642,\n",
       "        3.18390908,  3.50600461,  3.14476339,  3.27410718,  3.27296884,\n",
       "        3.66556783,  3.2270943 ,  3.74786094,  3.36934459,  3.56045696,\n",
       "        3.74136195,  4.2449055 ,  4.72548167,  4.1058666 ,  4.63068995,\n",
       "        4.8180466 ,  4.19582684,  4.67502192,  4.90895849,  5.06061383,\n",
       "        4.98545529,  5.42316318,  5.05013144,  5.13711974,  5.64930279,\n",
       "        5.4890614 ,  5.96440478,  5.69365528,  5.37792188,  5.57571128,\n",
       "        5.69094855,  6.30490493,  6.41697426,  6.26027156,  6.28181415,\n",
       "        6.99939367,  6.48383943,  7.09085493,  7.02142864,  6.61693207,\n",
       "        6.87807208,  7.19219366,  7.1093575 ,  7.10236833,  7.10990762,\n",
       "        7.45520298,  7.73576609,  7.41865007,  7.70114031,  8.43589966,\n",
       "        8.38582433,  8.51257858,  8.26072631,  7.89529705,  7.9954208 ,\n",
       "        8.51505782,  8.72913999,  8.56005151,  8.92213056,  9.09806866,\n",
       "        9.31847742,  9.12860816,  9.6514127 ,  9.62244156,  9.5378751 ,\n",
       "        9.1456318 , 10.07339066,  9.65778363,  9.94446564,  9.60053717,\n",
       "        9.63464008, 10.16754329, 10.51263669, 10.88117198, 10.84766925])"
      ]
     },
     "execution_count": 69,
     "metadata": {},
     "output_type": "execute_result"
    }
   ],
   "execution_count": 69
  },
  {
   "cell_type": "code",
   "metadata": {
    "ExecuteTime": {
     "end_time": "2025-07-23T21:22:43.111151Z",
     "start_time": "2025-07-23T21:22:43.108007Z"
    }
   },
   "source": [
    "print(x.sum())\n",
    "print(y.sum())\n",
    "print(z.sum())"
   ],
   "outputs": [
    {
     "name": "stdout",
     "output_type": "stream",
     "text": [
      "500.0\n",
      "47.79198307038171\n",
      "547.7919830703818\n"
     ]
    }
   ],
   "execution_count": 71
  },
  {
   "cell_type": "code",
   "execution_count": null,
   "metadata": {},
   "outputs": [],
   "source": ""
  }
 ],
 "metadata": {
  "kernelspec": {
   "display_name": "Python 3",
   "language": "python",
   "name": "python3"
  },
  "language_info": {
   "codemirror_mode": {
    "name": "ipython",
    "version": 3
   },
   "file_extension": ".py",
   "mimetype": "text/x-python",
   "name": "python",
   "nbconvert_exporter": "python",
   "pygments_lexer": "ipython3",
   "version": "3.8.8"
  }
 },
 "nbformat": 4,
 "nbformat_minor": 2
}
